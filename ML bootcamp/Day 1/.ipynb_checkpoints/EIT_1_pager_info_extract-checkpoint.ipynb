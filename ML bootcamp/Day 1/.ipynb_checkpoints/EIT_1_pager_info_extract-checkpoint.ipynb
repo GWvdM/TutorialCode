{
 "cells": [
  {
   "cell_type": "markdown",
   "metadata": {},
   "source": [
    "#install the neccesary pdfreader package - only need to run this once"
   ]
  },
  {
   "cell_type": "code",
   "execution_count": 10,
   "metadata": {},
   "outputs": [
    {
     "name": "stdout",
     "output_type": "stream",
     "text": [
      "Collecting pdfreader==0.1.2\n",
      "  Downloading pdfreader-0.1.2.tar.gz (2.6 MB)\n",
      "Requirement already satisfied: bitarray>=1.1.0 in c:\\users\\vdmerwgw\\anaconda3\\lib\\site-packages (from pdfreader==0.1.2) (1.2.1)\n",
      "Requirement already satisfied: pillow>6.2.0 in c:\\users\\vdmerwgw\\anaconda3\\lib\\site-packages (from pdfreader==0.1.2) (7.0.0)\n",
      "Building wheels for collected packages: pdfreader\n",
      "  Building wheel for pdfreader (setup.py): started\n",
      "  Building wheel for pdfreader (setup.py): finished with status 'done'\n",
      "  Created wheel for pdfreader: filename=pdfreader-0.1.2-py3-none-any.whl size=98108 sha256=1349fdb1e00be3756d0b760052be08f1a70d215f1cef84354ebf4112a80698fd\n",
      "  Stored in directory: c:\\users\\vdmerwgw\\appdata\\local\\pip\\cache\\wheels\\78\\73\\c3\\cf000644020215e9b53d0b83ac1e983b28c51650dbb4de17f7\n",
      "Successfully built pdfreader\n",
      "Installing collected packages: pdfreader\n",
      "Successfully installed pdfreader-0.1.2\n",
      "Note: you may need to restart the kernel to use updated packages.\n"
     ]
    }
   ],
   "source": [
    "pip install --trusted-host pypi.org --trusted-host files.pythonhosted.org pdfreader==0.1.2"
   ]
  },
  {
   "cell_type": "markdown",
   "metadata": {},
   "source": [
    "#Function - Extract information\n",
    "Funtion to extract EIT information from the 1 pager provided to the funtion as an object."
   ]
  },
  {
   "cell_type": "code",
   "execution_count": 11,
   "metadata": {},
   "outputs": [],
   "source": [
    "def get_EIT_info(file):\n",
    "    \n",
    "    # load pdf file into memory and extract text \n",
    "    fn=open(file, 'rb')\n",
    "    viewer=SimplePDFViewer(fn)\n",
    "    viewer.render()\n",
    "    text=\"\".join(viewer.canvas.strings)\n",
    "   \n",
    "    # extract EIT name and control number\n",
    "    start = text.find(\"EIT Name & Control Number\") + len(\"EIT Name & Control Number\")\n",
    "    end = text.find(\"Discipline\")\n",
    "    EIT_Name = text[start:end]\n",
    " \n",
    "    # extract current rotation OME\n",
    "    start = text.find(\"FUTURE ROTATION Function/OME/ROH\") + len(\"FUTURE ROTATION Function/OME/ROH\") + 1\n",
    "    end = text.find(\"High level scope\")\n",
    "    substring1 = text[start:end]\n",
    "    end = substring1.find(\"Function/OME/ROH\")\n",
    "    C_OME = substring1[:end]\n",
    "\n",
    "    # extract future rotation OME\n",
    "    start = substring1.find(\"Function/OME/ROH\") + len(\"Function/OME/ROH\") + 1\n",
    "    end = substring1.find(\"Area/Plant\")\n",
    "    F_OME = substring1[start:end]\n",
    "   \n",
    "    # extract current plant area\n",
    "    start = substring1.find(\"Area/Plant\") + len(\"Area/Plant\") + 1\n",
    "    end = substring1.find(\"Rotation\")\n",
    "    ss2 = substring1[start:end]\n",
    "    end = ss2.find(\"Area/Plant\")\n",
    "    C_Plant_Area = ss2[:end]\n",
    "\n",
    "    # extract future plant area\n",
    "    start = ss2.find(\"Area/Plant\") + len(\"Area/Plant\") + 1\n",
    "    F_Plant_Area = ss2[start:]\n",
    "\n",
    "    # scope and competencies\n",
    "    start = text.find(\"GDP target competencies\") + len(\"GDP target competencies\") + 1\n",
    "    end = text.find(\"Agreed start date for future\")\n",
    "    scope_comp = text[start:end]\n",
    "\n",
    "    # print collected data\n",
    "    print(\"EIT name: {}\".format(EIT_Name))\n",
    "    print(\"Current rotation: {}- {}\".format(C_OME,C_Plant_Area))\n",
    "    print(\"Future rotation: {}- {}\".format(F_OME,F_Plant_Area))\n",
    "    print(\"Scope and competencies: {}\\n\".format(scope_comp))\n"
   ]
  },
  {
   "cell_type": "markdown",
   "metadata": {},
   "source": [
    "#Script - loop through files\n",
    "provide the script with folder name where the files are located and the it will loop through the files and extract\n",
    "the information using the get_EIT_info(file) function"
   ]
  },
  {
   "cell_type": "code",
   "execution_count": 12,
   "metadata": {},
   "outputs": [
    {
     "name": "stdout",
     "output_type": "stream",
     "text": [
      "EIT name:  Ashlen Naidoo (1030216) \n",
      "Current rotation: Secunda Chemicals - Solvents \n",
      "Future rotation: Group Technology - Multiple \n",
      "Scope and competencies: Projects to be involved in: • FAHP2031 (Pre-feasibility) • Trichardt Exchange Yard Project (Feasibility) • U267/U267 Alternate Feed (Pre-feasibility) • TNPE Feed to Refinery (Feasibility) • Southern Seepage West (Basic Engineering) • Southern Seepage East (Basic Engineering) • 40 Bar HP Steam Isolation Valves (Basic engineering) • Zero Graded Lines MPI (Basic Engineering) • Functional Safety • Plant Safety • Instrumentation • PAS • Regulatory control / ARC • Design • Project Management \n",
      "\n",
      "EIT name:  Ashlen Naidoo (1030216) \n",
      "Current rotation: Secunda Chemicals - Solvents \n",
      "Future rotation: Group Technology - Multiple \n",
      "Scope and competencies: Projects to be involved in: • FAHP2031 (Pre-feasibility) • Trichardt Exchange Yard Project (Feasibility) • U267/U267 Alternate Feed (Pre-feasibility) • TNPE Feed to Refinery (Feasibility) • Southern Seepage West (Basic Engineering) • Southern Seepage East (Basic Engineering) • 40 Bar HP Steam Isolation Valves (Basic engineering) • Zero Graded Lines MPI (Basic Engineering) • Functional Safety • Plant Safety • Instrumentation • PAS • Regulatory control / ARC • Design • Project Management \n",
      "\n",
      "EIT name:  Ashlen Naidoo (1030216) \n",
      "Current rotation: Secunda Chemicals - Solvents \n",
      "Future rotation: Group Technology - Multiple \n",
      "Scope and competencies: Projects to be involved in: • FAHP2031 (Pre-feasibility) • Trichardt Exchange Yard Project (Feasibility) • U267/U267 Alternate Feed (Pre-feasibility) • TNPE Feed to Refinery (Feasibility) • Southern Seepage West (Basic Engineering) • Southern Seepage East (Basic Engineering) • 40 Bar HP Steam Isolation Valves (Basic engineering) • Zero Graded Lines MPI (Basic Engineering) • Functional Safety • Plant Safety • Instrumentation • PAS • Regulatory control / ARC • Design • Project Management \n",
      "\n",
      "EIT name:  Ashlen Naidoo (1030216) \n",
      "Current rotation: Secunda Chemicals - Solvents \n",
      "Future rotation: Group Technology - Multiple \n",
      "Scope and competencies: Projects to be involved in: • FAHP2031 (Pre-feasibility) • Trichardt Exchange Yard Project (Feasibility) • U267/U267 Alternate Feed (Pre-feasibility) • TNPE Feed to Refinery (Feasibility) • Southern Seepage West (Basic Engineering) • Southern Seepage East (Basic Engineering) • 40 Bar HP Steam Isolation Valves (Basic engineering) • Zero Graded Lines MPI (Basic Engineering) • Functional Safety • Plant Safety • Instrumentation • PAS • Regulatory control / ARC • Design • Project Management \n",
      "\n",
      "EIT name:  Ashlen Naidoo (1030216) \n",
      "Current rotation: Secunda Chemicals - Solvents \n",
      "Future rotation: Group Technology - Multiple \n",
      "Scope and competencies: Projects to be involved in: • FAHP2031 (Pre-feasibility) • Trichardt Exchange Yard Project (Feasibility) • U267/U267 Alternate Feed (Pre-feasibility) • TNPE Feed to Refinery (Feasibility) • Southern Seepage West (Basic Engineering) • Southern Seepage East (Basic Engineering) • 40 Bar HP Steam Isolation Valves (Basic engineering) • Zero Graded Lines MPI (Basic Engineering) • Functional Safety • Plant Safety • Instrumentation • PAS • Regulatory control / ARC • Design • Project Management \n",
      "\n"
     ]
    }
   ],
   "source": [
    "import os\n",
    "from pdfreader import SimplePDFViewer\n",
    "# assign directory name where EIT files are located (place notebook in folder with subfolder for all the EIT files)\n",
    "directory = 'files'\n",
    " \n",
    "# iterate over files in that directory\n",
    "for filename in os.listdir(directory):\n",
    "    file = os.path.join(directory, filename) \n",
    "    # checking if it is a file\n",
    "    if os.path.isfile(file):\n",
    "        \n",
    "        #If there is a file that extract the EIT information\n",
    "        get_EIT_info(file)"
   ]
  },
  {
   "cell_type": "code",
   "execution_count": null,
   "metadata": {},
   "outputs": [],
   "source": []
  }
 ],
 "metadata": {
  "interpreter": {
   "hash": "b1287fb7a5bfba5d32318c063134c36f422ae5e3b6afed877937dee7b19d8758"
  },
  "kernelspec": {
   "display_name": "Python 3",
   "language": "python",
   "name": "python3"
  },
  "language_info": {
   "codemirror_mode": {
    "name": "ipython",
    "version": 3
   },
   "file_extension": ".py",
   "mimetype": "text/x-python",
   "name": "python",
   "nbconvert_exporter": "python",
   "pygments_lexer": "ipython3",
   "version": "3.7.6"
  }
 },
 "nbformat": 4,
 "nbformat_minor": 2
}
