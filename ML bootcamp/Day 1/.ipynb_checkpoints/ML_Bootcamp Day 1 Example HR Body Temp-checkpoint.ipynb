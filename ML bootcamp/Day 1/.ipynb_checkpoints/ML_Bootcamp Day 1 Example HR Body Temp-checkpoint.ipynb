{
 "cells": [
  {
   "cell_type": "markdown",
   "metadata": {},
   "source": [
    "# Machine learning bootcamp from percipio\n",
    "\n",
    "This is the first day class example\n",
    "\n",
    "first we need to import all the packages"
   ]
  },
  {
   "cell_type": "code",
   "execution_count": 4,
   "metadata": {},
   "outputs": [
    {
     "name": "stdout",
     "output_type": "stream",
     "text": [
      "Package import has completed\n"
     ]
    }
   ],
   "source": [
    "import os  # this is use to determine the directory path \n",
    "import pandas as pd # dataframes used to store and manipulated data\n",
    "import numpy as np # numpy used to store and manipulate data\n",
    "import matplotlib.pyplot as plt # used for plot and visual representations\n",
    "from mpl_toolkits.mplot3d import Axes3D # mplot3d toolkit provides the necessary functions used to create 3D surface plots\n",
    "import sklearn  # the machine learning library\n",
    "from sklearn import cluster \n",
    "from sklearn.cluster import KMeans\n",
    "from sklearn.preprocessing import MinMaxScaler # used to scale data\n",
    "\n",
    "from scipy.cluster.vq import kmeans # datascience clustering - alternative method\n",
    "from scipy.spatial.distance import cdist, pdist\n",
    "\n",
    "from matplotlib import cm # colour map functionality\n",
    "\n",
    "print('Package import has completed')"
   ]
  },
  {
   "cell_type": "markdown",
   "metadata": {},
   "source": [
    "In order to maximize the efficiency of your workflow, you should encode your directory structure into variables. We will use the pathlib library\n",
    "Let the main_dir be the variable corresponding to your\n",
    "skillsoft-machine-learning-2021 folder\n",
    "data_dir be the variable corresponding to your data folder"
   ]
  },
  {
   "cell_type": "code",
   "execution_count": 11,
   "metadata": {},
   "outputs": [
    {
     "name": "stdout",
     "output_type": "stream",
     "text": [
      "C:\\Users\\vdmerwgw\\Repositories\\TutorialCode\\ML bootcamp\\Day 1\n",
      "C:\\Users\\vdmerwgw\\Repositories\\TutorialCode\\ML bootcamp\\data\n"
     ]
    }
   ],
   "source": [
    "# set 'main_dir' to locaiton of the project folder\n",
    "\n",
    "from pathlib import Path\n",
    "home_dir = Path(\".\").resolve()\n",
    "print(home_dir)\n",
    "main_dir = home_dir.parent\n",
    "main_dir\n",
    "data_dir = str(main_dir) + \"\\data\" # confirm when to use / vs \\ different operating systems?\n",
    "print(data_dir)\n"
   ]
  },
  {
   "cell_type": "markdown",
   "metadata": {},
   "source": [
    "# Data preparations\n",
    "load clean and prepare\n",
    "First, we check how many NAs there are in each column\n",
    "We will subset Body Temp and Heart Rate to temp_heart_cluster\n",
    "confirm datatypes"
   ]
  },
  {
   "cell_type": "code",
   "execution_count": 22,
   "metadata": {},
   "outputs": [
    {
     "name": "stdout",
     "output_type": "stream",
     "text": [
      "  Gender  Body Temp  Heart Rate\n",
      "0   Male       96.3          70\n",
      "1   Male       96.7          71\n",
      "2   Male       96.9          74\n",
      "3   Male       97.0          80\n",
      "4   Male       97.1          73\n",
      "Gender        0\n",
      "Body Temp     0\n",
      "Heart Rate    0\n",
      "dtype: int64\n",
      "   Body Temp  Heart Rate\n",
      "0       96.3          70\n",
      "1       96.7          71\n",
      "2       96.9          74\n",
      "3       97.0          80\n",
      "4       97.1          73\n",
      "Body Temp     float64\n",
      "Heart Rate      int64\n",
      "dtype: object\n"
     ]
    }
   ],
   "source": [
    "temp_heart = pd.read_csv(\"temp_heart_rate.csv\") # read directly from the notebook folder\n",
    "print(temp_heart.head())\n",
    "print(temp_heart.isnull().sum()) # if .sum() not added it will print true/false in position\n",
    "temp_heart_cluster = temp_heart[['Body Temp','Heart Rate']]\n",
    "print (temp_heart_cluster.head())\n",
    "print(temp_heart_cluster.dtypes) # Check data type of our variables."
   ]
  },
  {
   "cell_type": "markdown",
   "metadata": {},
   "source": [
    "Let’s instantiate the scaler and transform our temp_heart_cluster dataset\n",
    "We create a new object temp_heart_cluster_scaled\n",
    "the convert back to dataframe with column names"
   ]
  },
  {
   "cell_type": "code",
   "execution_count": 28,
   "metadata": {},
   "outputs": [
    {
     "name": "stdout",
     "output_type": "stream",
     "text": [
      "[[0.         0.40625   ]\n",
      " [0.08888889 0.4375    ]\n",
      " [0.13333333 0.53125   ]]\n",
      "[[0.8        0.6875    ]\n",
      " [0.82222222 0.65625   ]\n",
      " [1.         0.625     ]]\n",
      "   Body Temp  Heart Rate\n",
      "0   0.000000     0.40625\n",
      "1   0.088889     0.43750\n",
      "2   0.133333     0.53125\n",
      "3   0.155556     0.71875\n",
      "4   0.177778     0.50000\n"
     ]
    }
   ],
   "source": [
    "scaler = MinMaxScaler() # instantiate the scaler\n",
    "temp_heart_cluster_scaled = scaler.fit_transform(temp_heart_cluster) # scale the dataframe \n",
    "# but this convert to numpy array where .head funtion does not exist\n",
    "print(temp_heart_cluster_scaled[:3]) # head\n",
    "print(temp_heart_cluster_scaled[-3:]) # tail\n",
    "# convert back to dataframe and add column names\n",
    "temp_heart_kmeans = pd.DataFrame(temp_heart_cluster_scaled, columns = temp_heart_cluster.columns)\n",
    "print(temp_heart_kmeans.head())"
   ]
  },
  {
   "cell_type": "markdown",
   "metadata": {},
   "source": [
    "# Plotting the data\n",
    "Let’s plot these two variables just to see\n",
    "what the interaction looks like\n",
    "What are your thoughts?"
   ]
  },
  {
   "cell_type": "code",
   "execution_count": 31,
   "metadata": {
    "scrolled": true
   },
   "outputs": [
    {
     "data": {
      "image/png": "[encoded data removed]",
      "text/plain": [
       "<Figure size 432x288 with 1 Axes>"
      ]
     },
     "metadata": {
      "needs_background": "light"
     },
     "output_type": "display_data"
    }
   ],
   "source": [
    "# plot the raw data\n",
    "plt.scatter(temp_heart_kmeans['Body Temp'],\n",
    "           temp_heart_kmeans['Heart Rate'])\n",
    "\n",
    "plt.title('Body Temp vs Heart Rate')\n",
    "plt.ylabel('Heart Rate')\n",
    "plt.xlabel('Body Temp')\n",
    "plt.show()"
   ]
  },
  {
   "cell_type": "markdown",
   "metadata": {},
   "source": [
    "K-means: k-means with k=2\n",
    "Let’s first start with an arbitrary k = 2\n",
    "sklearn.cluster allows us to plot our clusters easily, so we are using it now"
   ]
  },
  {
   "cell_type": "code",
   "execution_count": 35,
   "metadata": {},
   "outputs": [
    {
     "name": "stdout",
     "output_type": "stream",
     "text": [
      "KMeans(algorithm='auto', copy_x=True, init='k-means++', max_iter=300,\n",
      "       n_clusters=2, n_init=10, n_jobs=None, precompute_distances='auto',\n",
      "       random_state=None, tol=0.0001, verbose=0)\n",
      "KMeans(algorithm='auto', copy_x=True, init='k-means++', max_iter=300,\n",
      "       n_clusters=2, n_init=10, n_jobs=None, precompute_distances='auto',\n",
      "       random_state=None, tol=0.0001, verbose=0)\n",
      "[0 0 0 1 0 0 1 0 0 0 0 0 1 0 0 0 0 0 1 0 0 0 0 1 0 1 0 0 0 0 1 0 0 0 0 0 0\n",
      " 1 0 0 0 1 1 0 0 1 1 1 0 0 1 1 1 1 1 1 1 1 1 1 0 1 0 0 1 0 0 0 0 0 0 0 1 0\n",
      " 1 0 0 0 0 1 1 1 1 0 1 1 0 0 0 0 0 0 1 1 1 1 1 0 1 1 1 1 1 1 1 0 1 0 0 0 1\n",
      " 0 0 1 1 0 1 1 1 1 1 1 1 1 0 0 1 1 1 1]\n",
      "[[0.36972625 0.35643116]\n",
      " [0.50491803 0.71311475]]\n"
     ]
    }
   ],
   "source": [
    "# K-means = start with 2 clusters\n",
    "# initialising the k-means\n",
    "kmeans_2 = KMeans(n_clusters=2)\n",
    "print(kmeans_2)\n",
    "# fitting with inputs\n",
    "kmeans_2 = kmeans_2.fit(temp_heart_kmeans)\n",
    "print(kmeans_2)\n",
    "# predictin the clusters\n",
    "labels = kmeans_2.predict(temp_heart_kmeans)\n",
    "print(labels)\n",
    "# Getting the cluster centres\n",
    "C_2 = kmeans_2.cluster_centers_\n",
    "print(C_2)"
   ]
  },
  {
   "cell_type": "markdown",
   "metadata": {},
   "source": [
    "Now let’s plot our data with the clusters\n",
    "colored in, with each centroid plotted"
   ]
  },
  {
   "cell_type": "code",
   "execution_count": 39,
   "metadata": {},
   "outputs": [
    {
     "data": {
      "image/png": "[encoded data removed]",
      "text/plain": [
       "<Figure size 432x288 with 1 Axes>"
      ]
     },
     "metadata": {
      "needs_background": "light"
     },
     "output_type": "display_data"
    }
   ],
   "source": [
    "# first we plot our clusters colored in by the labels\n",
    "plt.scatter(temp_heart_kmeans.iloc[:,0],\n",
    "            temp_heart_kmeans.iloc[:,1],\n",
    "            c=kmeans_2.labels_,\n",
    "            cmap='rainbow')\n",
    "# second, we plot the optimized centroids over the clusters\n",
    "plt.scatter(C_2[:,0],\n",
    "            C_2[:,1],\n",
    "            c='black',\n",
    "            s=200,\n",
    "            alpha=0.5)\n",
    "plt.show()"
   ]
  },
  {
   "cell_type": "code",
   "execution_count": null,
   "metadata": {},
   "outputs": [],
   "source": []
  }
 ],
 "metadata": {
  "kernelspec": {
   "display_name": "Python 3",
   "language": "python",
   "name": "python3"
  },
  "language_info": {
   "codemirror_mode": {
    "name": "ipython",
    "version": 3
   },
   "file_extension": ".py",
   "mimetype": "text/x-python",
   "name": "python",
   "nbconvert_exporter": "python",
   "pygments_lexer": "ipython3",
   "version": "3.7.6"
  }
 },
 "nbformat": 4,
 "nbformat_minor": 4
}
